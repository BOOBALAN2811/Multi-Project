{
 "cells": [
  {
   "cell_type": "code",
   "execution_count": 1,
   "metadata": {},
   "outputs": [],
   "source": [
    "# Importing Libraries\n",
    "import selenium\n",
    "import pandas as pd\n",
    "import time\n",
    "from bs4 import BeautifulSoup\n",
    "from selenium import webdriver\n",
    "from selenium.common.exceptions import StaleElementReferenceException, NoSuchElementException\n",
    "import requests\n",
    "import re"
   ]
  },
  {
   "cell_type": "code",
   "execution_count": 7,
   "metadata": {},
   "outputs": [
    {
     "name": "stdout",
     "output_type": "stream",
     "text": [
      "Enter the product you want to search : Trousers for men\n"
     ]
    }
   ],
   "source": [
    "# Activating the chrome browser\n",
    "driver=webdriver.Chrome(r\"C:\\Users\\booba\\Downloads\\chromedriver\\chromedriver.exe\") \n",
    "time.sleep(3)\n",
    "\n",
    "# Opening the homepage of Amazon.in\n",
    "url = \"https://www.amazon.in/\"\n",
    "driver.get(url)\n",
    "\n",
    "time.sleep(2)\n",
    "# Asking the user to input the keywords he/she wants to search\n",
    "user_inp = input('Enter the product you want to search : ')\n",
    "\n",
    "search_bar = driver.find_element_by_id(\"twotabsearchtextbox\")    # Locating searc_bar by id\n",
    "search_bar.clear()                                               # clearing search_bar\n",
    "search_bar.send_keys(user_inp)                                   # sending user input to search bar\n",
    "search_button = driver.find_element_by_xpath('//div[@class=\"nav-search-submit nav-sprite\"]/span/input')       # Locating search_button by xpath\n",
    "search_button.click() \n",
    "\n",
    "img_urls = []\n",
    "start=0\n",
    "end=3\n",
    "for page in range(start,end):#for loop for scrapping 3 page\n",
    "    url=driver.find_elements_by_xpath('//img[@class=\"s-image\"]')       #scraping urls\n",
    "    for i in url:\n",
    "        S=i.get_attribute('src')                   #appending the urls in product_urls list\n",
    "        if S is not None:\n",
    "            if(S[0:4] == 'http'):\n",
    "                img_urls.append(S)\n",
    "\n",
    "\n",
    "for i in range(len(img_urls)):\n",
    "    if i >= 80:\n",
    "        break\n",
    "    response= requests.get(img_urls[i])\n",
    "    file = open(r\"C:\\Users\\booba\\.keras\\datasets\\Amazon_Image\\Image1\"+str(i)+\".jpg\", \"wb\")\n",
    "    file.write(response.content)\n",
    "    \n",
    "driver.quit()"
   ]
  },
  {
   "cell_type": "code",
   "execution_count": 9,
   "metadata": {},
   "outputs": [
    {
     "name": "stdout",
     "output_type": "stream",
     "text": [
      "Enter the product you want to search : Saree for women\n"
     ]
    }
   ],
   "source": [
    "# Activating the chrome browser\n",
    "driver=webdriver.Chrome(r\"C:\\Users\\booba\\Downloads\\chromedriver\\chromedriver.exe\") \n",
    "time.sleep(3)\n",
    "\n",
    "# Opening the homepage of Amazon.in\n",
    "url = \"https://www.amazon.in/\"\n",
    "driver.get(url)\n",
    "\n",
    "time.sleep(2)\n",
    "# Asking the user to input the keywords he/she wants to search\n",
    "user_inp = input('Enter the product you want to search : ')\n",
    "\n",
    "search_bar = driver.find_element_by_id(\"twotabsearchtextbox\")    # Locating searc_bar by id\n",
    "search_bar.clear()                                               # clearing search_bar\n",
    "search_bar.send_keys(user_inp)                                   # sending user input to search bar\n",
    "search_button = driver.find_element_by_xpath('//div[@class=\"nav-search-submit nav-sprite\"]/span/input')       # Locating search_button by xpath\n",
    "search_button.click() \n",
    "\n",
    "img_urls1 = []\n",
    "start=0\n",
    "end=3\n",
    "for page in range(start,end):#for loop for scrapping 3 page\n",
    "    url=driver.find_elements_by_xpath('//img[@class=\"s-image\"]')       #scraping urls\n",
    "    for i in url:\n",
    "        S=i.get_attribute('src')                   #appending the urls in product_urls list\n",
    "        if S is not None:\n",
    "            if(S[0:4] == 'http'):\n",
    "                img_urls1.append(S)\n",
    "\n",
    "\n",
    "for i in range(len(img_urls1)):\n",
    "    if i >= 80:\n",
    "        break\n",
    "    response= requests.get(img_urls1[i])\n",
    "    file = open(r\"C:\\Users\\booba\\.keras\\datasets\\Amazon_Image\\Image2\"+str(i)+\".jpg\", \"wb\")\n",
    "    file.write(response.content)\n",
    "    \n",
    "driver.quit()"
   ]
  },
  {
   "cell_type": "code",
   "execution_count": 5,
   "metadata": {},
   "outputs": [
    {
     "name": "stdout",
     "output_type": "stream",
     "text": [
      "Enter the product you want to search : Jeans for men\n"
     ]
    }
   ],
   "source": [
    "# Activating the chrome browser\n",
    "driver=webdriver.Chrome(r\"C:\\Users\\booba\\Downloads\\chromedriver\\chromedriver.exe\") \n",
    "time.sleep(3)\n",
    "\n",
    "# Opening the homepage of Amazon.in\n",
    "url = \"https://www.amazon.in/\"\n",
    "driver.get(url)\n",
    "\n",
    "time.sleep(2)\n",
    "# Asking the user to input the keywords he/she wants to search\n",
    "user_inp = input('Enter the product you want to search : ')\n",
    "\n",
    "search_bar = driver.find_element_by_id(\"twotabsearchtextbox\")    # Locating searc_bar by id\n",
    "search_bar.clear()                                               # clearing search_bar\n",
    "search_bar.send_keys(user_inp)                                   # sending user input to search bar\n",
    "search_button = driver.find_element_by_xpath('//div[@class=\"nav-search-submit nav-sprite\"]/span/input')       # Locating search_button by xpath\n",
    "search_button.click() \n",
    "\n",
    "img_urls2 = []\n",
    "start=0\n",
    "end=3\n",
    "for page in range(start,end):#for loop for scrapping 3 page\n",
    "    url=driver.find_elements_by_xpath('//img[@class=\"s-image\"]')       #scraping urls\n",
    "    for i in url:\n",
    "        S=i.get_attribute('src')                   #appending the urls in product_urls list\n",
    "        if S is not None:\n",
    "            if(S[0:4] == 'http'):\n",
    "                img_urls2.append(S)\n",
    "\n",
    "\n",
    "for i in range(len(img_urls2)):\n",
    "    if i >= 80:\n",
    "        break\n",
    "    response= requests.get(img_urls2[i])\n",
    "    file = open(r\"C:\\Users\\booba\\.keras\\datasets\\Amazon_Image\\Image\"+str(i)+\".jpg\", \"wb\")\n",
    "    file.write(response.content)\n",
    "    \n",
    "driver.quit()"
   ]
  },
  {
   "cell_type": "code",
   "execution_count": null,
   "metadata": {},
   "outputs": [],
   "source": []
  }
 ],
 "metadata": {
  "kernelspec": {
   "display_name": "Python 3",
   "language": "python",
   "name": "python3"
  },
  "language_info": {
   "codemirror_mode": {
    "name": "ipython",
    "version": 3
   },
   "file_extension": ".py",
   "mimetype": "text/x-python",
   "name": "python",
   "nbconvert_exporter": "python",
   "pygments_lexer": "ipython3",
   "version": "3.8.3"
  }
 },
 "nbformat": 4,
 "nbformat_minor": 4
}
