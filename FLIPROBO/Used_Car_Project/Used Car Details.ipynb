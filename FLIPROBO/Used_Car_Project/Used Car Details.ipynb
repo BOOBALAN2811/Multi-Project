{
 "cells": [
  {
   "cell_type": "markdown",
   "metadata": {},
   "source": [
    "# Data Description"
   ]
  },
  {
   "cell_type": "markdown",
   "metadata": {},
   "source": [
    "We have seen lot of changes in the car market. Now some cars are in demand hence making them costly and some are not in demand hence cheaper. \n",
    "\n",
    "One of our clients works with small traders, who sell used cars. With the change in market due to covid 19 impact, our client is facing problems with their previous car price valuation machine learning models. So, they are looking for new machine learning models from new data. We have to make carprice valuation mode"
   ]
  },
  {
   "cell_type": "markdown",
   "metadata": {},
   "source": [
    "# Import Required Library"
   ]
  },
  {
   "cell_type": "code",
   "execution_count": 1,
   "metadata": {},
   "outputs": [],
   "source": [
    "import numpy as np\n",
    "import pandas as pd\n",
    "import matplotlib.pyplot as plt\n",
    "import seaborn as sns\n",
    "import sklearn\n",
    "from sklearn.linear_model import LinearRegression\n",
    "from sklearn.metrics import confusion_matrix,classification_report\n",
    "from sklearn.model_selection import train_test_split\n",
    "from scipy.stats import zscore\n",
    "import warnings\n",
    "warnings.filterwarnings('ignore')"
   ]
  },
  {
   "cell_type": "markdown",
   "metadata": {},
   "source": [
    "# Importing Dataset:"
   ]
  },
  {
   "cell_type": "code",
   "execution_count": 3,
   "metadata": {},
   "outputs": [
    {
     "data": {
      "text/html": [
       "<div>\n",
       "<style scoped>\n",
       "    .dataframe tbody tr th:only-of-type {\n",
       "        vertical-align: middle;\n",
       "    }\n",
       "\n",
       "    .dataframe tbody tr th {\n",
       "        vertical-align: top;\n",
       "    }\n",
       "\n",
       "    .dataframe thead th {\n",
       "        text-align: right;\n",
       "    }\n",
       "</style>\n",
       "<table border=\"1\" class=\"dataframe\">\n",
       "  <thead>\n",
       "    <tr style=\"text-align: right;\">\n",
       "      <th></th>\n",
       "      <th>Name</th>\n",
       "      <th>Year</th>\n",
       "      <th>Engine</th>\n",
       "      <th>Fuel</th>\n",
       "      <th>Transmission</th>\n",
       "      <th>Driven_KM</th>\n",
       "      <th>No_of_Owner</th>\n",
       "      <th>Location</th>\n",
       "      <th>Price</th>\n",
       "    </tr>\n",
       "  </thead>\n",
       "  <tbody>\n",
       "    <tr>\n",
       "      <th>0</th>\n",
       "      <td>Maruti Wagon R LXI CNG</td>\n",
       "      <td>2010</td>\n",
       "      <td>998 CC</td>\n",
       "      <td>CNG</td>\n",
       "      <td>Manual</td>\n",
       "      <td>72000</td>\n",
       "      <td>First</td>\n",
       "      <td>Mumbai</td>\n",
       "      <td>1.75</td>\n",
       "    </tr>\n",
       "    <tr>\n",
       "      <th>1</th>\n",
       "      <td>Hyundai Creta 1.6 CRDi SX Option</td>\n",
       "      <td>2015</td>\n",
       "      <td>1582 CC</td>\n",
       "      <td>Diesel</td>\n",
       "      <td>Manual</td>\n",
       "      <td>41000</td>\n",
       "      <td>First</td>\n",
       "      <td>Pune</td>\n",
       "      <td>12.50</td>\n",
       "    </tr>\n",
       "    <tr>\n",
       "      <th>2</th>\n",
       "      <td>Honda Jazz V</td>\n",
       "      <td>2011</td>\n",
       "      <td>1199 CC</td>\n",
       "      <td>Petrol</td>\n",
       "      <td>Manual</td>\n",
       "      <td>46000</td>\n",
       "      <td>First</td>\n",
       "      <td>Chennai</td>\n",
       "      <td>4.50</td>\n",
       "    </tr>\n",
       "    <tr>\n",
       "      <th>3</th>\n",
       "      <td>Maruti Ertiga VDI</td>\n",
       "      <td>2012</td>\n",
       "      <td>1248 CC</td>\n",
       "      <td>Diesel</td>\n",
       "      <td>Manual</td>\n",
       "      <td>87000</td>\n",
       "      <td>First</td>\n",
       "      <td>Chennai</td>\n",
       "      <td>6.00</td>\n",
       "    </tr>\n",
       "    <tr>\n",
       "      <th>4</th>\n",
       "      <td>Audi A4 New 2.0 TDI Multitronic</td>\n",
       "      <td>2013</td>\n",
       "      <td>1968 CC</td>\n",
       "      <td>Diesel</td>\n",
       "      <td>Automatic</td>\n",
       "      <td>40670</td>\n",
       "      <td>Second</td>\n",
       "      <td>Coimbatore</td>\n",
       "      <td>17.74</td>\n",
       "    </tr>\n",
       "  </tbody>\n",
       "</table>\n",
       "</div>"
      ],
      "text/plain": [
       "                               Name  Year   Engine    Fuel Transmission  \\\n",
       "0            Maruti Wagon R LXI CNG  2010   998 CC     CNG       Manual   \n",
       "1  Hyundai Creta 1.6 CRDi SX Option  2015  1582 CC  Diesel       Manual   \n",
       "2                      Honda Jazz V  2011  1199 CC  Petrol       Manual   \n",
       "3                 Maruti Ertiga VDI  2012  1248 CC  Diesel       Manual   \n",
       "4   Audi A4 New 2.0 TDI Multitronic  2013  1968 CC  Diesel    Automatic   \n",
       "\n",
       "   Driven_KM No_of_Owner    Location   Price   \n",
       "0      72000       First      Mumbai     1.75  \n",
       "1      41000       First        Pune    12.50  \n",
       "2      46000       First     Chennai     4.50  \n",
       "3      87000       First     Chennai     6.00  \n",
       "4      40670      Second  Coimbatore    17.74  "
      ]
     },
     "execution_count": 3,
     "metadata": {},
     "output_type": "execute_result"
    }
   ],
   "source": [
    "#importing dataset from download\n",
    "\n",
    "df=pd.read_csv('Used_Car_Details.csv')\n",
    "df.head()"
   ]
  },
  {
   "cell_type": "markdown",
   "metadata": {},
   "source": [
    "We pulled the Used Car dataset through web scarping. "
   ]
  },
  {
   "cell_type": "code",
   "execution_count": 4,
   "metadata": {},
   "outputs": [
    {
     "data": {
      "text/plain": [
       "Name             object\n",
       "Year              int64\n",
       "Engine           object\n",
       "Fuel             object\n",
       "Transmission     object\n",
       "Driven_KM         int64\n",
       "No_of_Owner      object\n",
       "Location         object\n",
       " Price          float64\n",
       "dtype: object"
      ]
     },
     "execution_count": 4,
     "metadata": {},
     "output_type": "execute_result"
    }
   ],
   "source": [
    "df.dtypes"
   ]
  },
  {
   "cell_type": "markdown",
   "metadata": {},
   "source": [
    "We have a 9 columns in the dataset which are in object,integer & float type. "
   ]
  },
  {
   "cell_type": "code",
   "execution_count": 5,
   "metadata": {},
   "outputs": [
    {
     "data": {
      "text/plain": [
       "(6019, 9)"
      ]
     },
     "execution_count": 5,
     "metadata": {},
     "output_type": "execute_result"
    }
   ],
   "source": [
    "df.shape"
   ]
  },
  {
   "cell_type": "markdown",
   "metadata": {},
   "source": [
    "We have a 6019 rows and 9 columns in the dataset."
   ]
  },
  {
   "cell_type": "markdown",
   "metadata": {},
   "source": [
    "# Checking the Null Value:"
   ]
  },
  {
   "cell_type": "code",
   "execution_count": 6,
   "metadata": {},
   "outputs": [
    {
     "data": {
      "text/plain": [
       "Name             0\n",
       "Year             0\n",
       "Engine          36\n",
       "Fuel             0\n",
       "Transmission     0\n",
       "Driven_KM        0\n",
       "No_of_Owner      0\n",
       "Location         0\n",
       " Price           0\n",
       "dtype: int64"
      ]
     },
     "execution_count": 6,
     "metadata": {},
     "output_type": "execute_result"
    }
   ],
   "source": [
    "df.isnull().sum()"
   ]
  },
  {
   "cell_type": "markdown",
   "metadata": {},
   "source": [
    "We have a null value in the dataset around 36 rows for the columns. I have decided based on the above info.\n",
    "\n",
    "Also, there is no use to fill the nan value for this row because all the columns having the null value. If we fill the null value then it will affect the performance of model.\n",
    "\n",
    "So, I have decided to drop the null value rows in the next step."
   ]
  },
  {
   "cell_type": "code",
   "execution_count": 13,
   "metadata": {},
   "outputs": [
    {
     "data": {
      "text/html": [
       "<div>\n",
       "<style scoped>\n",
       "    .dataframe tbody tr th:only-of-type {\n",
       "        vertical-align: middle;\n",
       "    }\n",
       "\n",
       "    .dataframe tbody tr th {\n",
       "        vertical-align: top;\n",
       "    }\n",
       "\n",
       "    .dataframe thead th {\n",
       "        text-align: right;\n",
       "    }\n",
       "</style>\n",
       "<table border=\"1\" class=\"dataframe\">\n",
       "  <thead>\n",
       "    <tr style=\"text-align: right;\">\n",
       "      <th></th>\n",
       "      <th>Name</th>\n",
       "      <th>Year</th>\n",
       "      <th>Engine</th>\n",
       "      <th>Fuel</th>\n",
       "      <th>Transmission</th>\n",
       "      <th>Driven_KM</th>\n",
       "      <th>No_of_Owner</th>\n",
       "      <th>Location</th>\n",
       "      <th>Price</th>\n",
       "    </tr>\n",
       "  </thead>\n",
       "  <tbody>\n",
       "    <tr>\n",
       "      <th>0</th>\n",
       "      <td>Maruti Wagon R LXI CNG</td>\n",
       "      <td>2010</td>\n",
       "      <td>998 CC</td>\n",
       "      <td>CNG</td>\n",
       "      <td>Manual</td>\n",
       "      <td>72000</td>\n",
       "      <td>First</td>\n",
       "      <td>Mumbai</td>\n",
       "      <td>1.75</td>\n",
       "    </tr>\n",
       "    <tr>\n",
       "      <th>1</th>\n",
       "      <td>Hyundai Creta 1.6 CRDi SX Option</td>\n",
       "      <td>2015</td>\n",
       "      <td>1582 CC</td>\n",
       "      <td>Diesel</td>\n",
       "      <td>Manual</td>\n",
       "      <td>41000</td>\n",
       "      <td>First</td>\n",
       "      <td>Pune</td>\n",
       "      <td>12.50</td>\n",
       "    </tr>\n",
       "    <tr>\n",
       "      <th>2</th>\n",
       "      <td>Honda Jazz V</td>\n",
       "      <td>2011</td>\n",
       "      <td>1199 CC</td>\n",
       "      <td>Petrol</td>\n",
       "      <td>Manual</td>\n",
       "      <td>46000</td>\n",
       "      <td>First</td>\n",
       "      <td>Chennai</td>\n",
       "      <td>4.50</td>\n",
       "    </tr>\n",
       "    <tr>\n",
       "      <th>3</th>\n",
       "      <td>Maruti Ertiga VDI</td>\n",
       "      <td>2012</td>\n",
       "      <td>1248 CC</td>\n",
       "      <td>Diesel</td>\n",
       "      <td>Manual</td>\n",
       "      <td>87000</td>\n",
       "      <td>First</td>\n",
       "      <td>Chennai</td>\n",
       "      <td>6.00</td>\n",
       "    </tr>\n",
       "    <tr>\n",
       "      <th>4</th>\n",
       "      <td>Audi A4 New 2.0 TDI Multitronic</td>\n",
       "      <td>2013</td>\n",
       "      <td>1968 CC</td>\n",
       "      <td>Diesel</td>\n",
       "      <td>Automatic</td>\n",
       "      <td>40670</td>\n",
       "      <td>Second</td>\n",
       "      <td>Coimbatore</td>\n",
       "      <td>17.74</td>\n",
       "    </tr>\n",
       "  </tbody>\n",
       "</table>\n",
       "</div>"
      ],
      "text/plain": [
       "                               Name  Year   Engine    Fuel Transmission  \\\n",
       "0            Maruti Wagon R LXI CNG  2010   998 CC     CNG       Manual   \n",
       "1  Hyundai Creta 1.6 CRDi SX Option  2015  1582 CC  Diesel       Manual   \n",
       "2                      Honda Jazz V  2011  1199 CC  Petrol       Manual   \n",
       "3                 Maruti Ertiga VDI  2012  1248 CC  Diesel       Manual   \n",
       "4   Audi A4 New 2.0 TDI Multitronic  2013  1968 CC  Diesel    Automatic   \n",
       "\n",
       "   Driven_KM No_of_Owner    Location   Price   \n",
       "0      72000       First      Mumbai     1.75  \n",
       "1      41000       First        Pune    12.50  \n",
       "2      46000       First     Chennai     4.50  \n",
       "3      87000       First     Chennai     6.00  \n",
       "4      40670      Second  Coimbatore    17.74  "
      ]
     },
     "execution_count": 13,
     "metadata": {},
     "output_type": "execute_result"
    }
   ],
   "source": [
    "df=df.dropna()\n",
    "df.head()"
   ]
  },
  {
   "cell_type": "code",
   "execution_count": 9,
   "metadata": {},
   "outputs": [
    {
     "data": {
      "text/plain": [
       "(5983, 9)"
      ]
     },
     "execution_count": 9,
     "metadata": {},
     "output_type": "execute_result"
    }
   ],
   "source": [
    "df.shape"
   ]
  },
  {
   "cell_type": "markdown",
   "metadata": {},
   "source": [
    "After dropig the unwanted rows then we have a 5983 rows and 9 columns in the dataset."
   ]
  },
  {
   "cell_type": "markdown",
   "metadata": {},
   "source": [
    "checking the data type again from the dataset"
   ]
  },
  {
   "cell_type": "code",
   "execution_count": 10,
   "metadata": {},
   "outputs": [
    {
     "data": {
      "text/plain": [
       "Name            0\n",
       "Year            0\n",
       "Engine          0\n",
       "Fuel            0\n",
       "Transmission    0\n",
       "Driven_KM       0\n",
       "No_of_Owner     0\n",
       "Location        0\n",
       " Price          0\n",
       "dtype: int64"
      ]
     },
     "execution_count": 10,
     "metadata": {},
     "output_type": "execute_result"
    }
   ],
   "source": [
    "df.isnull().sum()"
   ]
  },
  {
   "cell_type": "markdown",
   "metadata": {},
   "source": [
    "Based on the above info - We don't have a null value in the dataset. However, we can visualization this data through heatmap."
   ]
  },
  {
   "cell_type": "code",
   "execution_count": 11,
   "metadata": {},
   "outputs": [
    {
     "data": {
      "image/png": "[encoded data removed]",
      "text/plain": [
       "<Figure size 432x288 with 2 Axes>"
      ]
     },
     "metadata": {
      "needs_background": "light"
     },
     "output_type": "display_data"
    }
   ],
   "source": [
    "sns.heatmap(df.isnull())\n",
    "plt.title(\"Null Value\")\n",
    "plt.show()"
   ]
  },
  {
   "cell_type": "markdown",
   "metadata": {},
   "source": [
    "Just I ensure through visualization - We don't gave a null value in the dataset."
   ]
  },
  {
   "cell_type": "markdown",
   "metadata": {},
   "source": [
    "# Visualization of Data:"
   ]
  },
  {
   "cell_type": "markdown",
   "metadata": {},
   "source": [
    "Making the Dataframe for Visualization of data"
   ]
  },
  {
   "cell_type": "code",
   "execution_count": 12,
   "metadata": {},
   "outputs": [
    {
     "name": "stdout",
     "output_type": "stream",
     "text": [
      "2014    795\n",
      "2015    742\n",
      "2016    741\n",
      "2013    648\n",
      "2017    586\n",
      "2012    573\n",
      "2011    462\n",
      "2010    340\n",
      "2018    298\n",
      "2009    196\n",
      "2008    171\n",
      "2007    123\n",
      "2019    102\n",
      "2006     75\n",
      "2005     56\n",
      "2004     29\n",
      "2003     15\n",
      "2002     14\n",
      "2001      7\n",
      "1998      4\n",
      "2000      4\n",
      "1999      2\n",
      "Name: Year, dtype: int64\n"
     ]
    },
    {
     "data": {
      "image/png": "[encoded data removed]",
      "text/plain": [
       "<Figure size 432x288 with 1 Axes>"
      ]
     },
     "metadata": {
      "needs_background": "light"
     },
     "output_type": "display_data"
    }
   ],
   "source": [
    "A=sns.countplot(x=\"Year\",data=df)\n",
    "print(df[\"Year\"].value_counts())"
   ]
  },
  {
   "cell_type": "markdown",
   "metadata": {},
   "source": [
    "Based on the year wise data - 1999 to 2014 in the dataset."
   ]
  },
  {
   "cell_type": "markdown",
   "metadata": {},
   "source": [
    "# Encoding the Dataframe:"
   ]
  },
  {
   "cell_type": "code",
   "execution_count": 17,
   "metadata": {},
   "outputs": [
    {
     "data": {
      "text/html": [
       "<div>\n",
       "<style scoped>\n",
       "    .dataframe tbody tr th:only-of-type {\n",
       "        vertical-align: middle;\n",
       "    }\n",
       "\n",
       "    .dataframe tbody tr th {\n",
       "        vertical-align: top;\n",
       "    }\n",
       "\n",
       "    .dataframe thead th {\n",
       "        text-align: right;\n",
       "    }\n",
       "</style>\n",
       "<table border=\"1\" class=\"dataframe\">\n",
       "  <thead>\n",
       "    <tr style=\"text-align: right;\">\n",
       "      <th></th>\n",
       "      <th>Name</th>\n",
       "      <th>Year</th>\n",
       "      <th>Engine</th>\n",
       "      <th>Fuel</th>\n",
       "      <th>Transmission</th>\n",
       "      <th>Driven_KM</th>\n",
       "      <th>No_of_Owner</th>\n",
       "      <th>Location</th>\n",
       "      <th>Price</th>\n",
       "    </tr>\n",
       "  </thead>\n",
       "  <tbody>\n",
       "    <tr>\n",
       "      <th>0</th>\n",
       "      <td>1185.0</td>\n",
       "      <td>2010</td>\n",
       "      <td>144.0</td>\n",
       "      <td>0.0</td>\n",
       "      <td>1.0</td>\n",
       "      <td>72000</td>\n",
       "      <td>0.0</td>\n",
       "      <td>9.0</td>\n",
       "      <td>1.75</td>\n",
       "    </tr>\n",
       "    <tr>\n",
       "      <th>1</th>\n",
       "      <td>506.0</td>\n",
       "      <td>2015</td>\n",
       "      <td>39.0</td>\n",
       "      <td>1.0</td>\n",
       "      <td>1.0</td>\n",
       "      <td>41000</td>\n",
       "      <td>0.0</td>\n",
       "      <td>10.0</td>\n",
       "      <td>12.50</td>\n",
       "    </tr>\n",
       "    <tr>\n",
       "      <th>2</th>\n",
       "      <td>480.0</td>\n",
       "      <td>2011</td>\n",
       "      <td>12.0</td>\n",
       "      <td>4.0</td>\n",
       "      <td>1.0</td>\n",
       "      <td>46000</td>\n",
       "      <td>0.0</td>\n",
       "      <td>2.0</td>\n",
       "      <td>4.50</td>\n",
       "    </tr>\n",
       "    <tr>\n",
       "      <th>3</th>\n",
       "      <td>1048.0</td>\n",
       "      <td>2012</td>\n",
       "      <td>14.0</td>\n",
       "      <td>1.0</td>\n",
       "      <td>1.0</td>\n",
       "      <td>87000</td>\n",
       "      <td>0.0</td>\n",
       "      <td>2.0</td>\n",
       "      <td>6.00</td>\n",
       "    </tr>\n",
       "    <tr>\n",
       "      <th>4</th>\n",
       "      <td>23.0</td>\n",
       "      <td>2013</td>\n",
       "      <td>58.0</td>\n",
       "      <td>1.0</td>\n",
       "      <td>0.0</td>\n",
       "      <td>40670</td>\n",
       "      <td>2.0</td>\n",
       "      <td>3.0</td>\n",
       "      <td>17.74</td>\n",
       "    </tr>\n",
       "  </tbody>\n",
       "</table>\n",
       "</div>"
      ],
      "text/plain": [
       "     Name  Year  Engine  Fuel  Transmission  Driven_KM  No_of_Owner  Location  \\\n",
       "0  1185.0  2010   144.0   0.0           1.0      72000          0.0       9.0   \n",
       "1   506.0  2015    39.0   1.0           1.0      41000          0.0      10.0   \n",
       "2   480.0  2011    12.0   4.0           1.0      46000          0.0       2.0   \n",
       "3  1048.0  2012    14.0   1.0           1.0      87000          0.0       2.0   \n",
       "4    23.0  2013    58.0   1.0           0.0      40670          2.0       3.0   \n",
       "\n",
       "    Price   \n",
       "0     1.75  \n",
       "1    12.50  \n",
       "2     4.50  \n",
       "3     6.00  \n",
       "4    17.74  "
      ]
     },
     "execution_count": 17,
     "metadata": {},
     "output_type": "execute_result"
    }
   ],
   "source": [
    "from sklearn.preprocessing import OrdinalEncoder\n",
    "OE=OrdinalEncoder()\n",
    "for i in df.columns:\n",
    "    if df[i].dtypes==\"object\":\n",
    "        df[i]=OE.fit_transform(df[i].values.reshape(-1,1))\n",
    "df.head()"
   ]
  },
  {
   "cell_type": "markdown",
   "metadata": {},
   "source": [
    "We have encoded the string value in the dataset"
   ]
  },
  {
   "cell_type": "markdown",
   "metadata": {},
   "source": [
    "# Describe Dataset"
   ]
  },
  {
   "cell_type": "code",
   "execution_count": 18,
   "metadata": {},
   "outputs": [
    {
     "data": {
      "text/html": [
       "<div>\n",
       "<style scoped>\n",
       "    .dataframe tbody tr th:only-of-type {\n",
       "        vertical-align: middle;\n",
       "    }\n",
       "\n",
       "    .dataframe tbody tr th {\n",
       "        vertical-align: top;\n",
       "    }\n",
       "\n",
       "    .dataframe thead th {\n",
       "        text-align: right;\n",
       "    }\n",
       "</style>\n",
       "<table border=\"1\" class=\"dataframe\">\n",
       "  <thead>\n",
       "    <tr style=\"text-align: right;\">\n",
       "      <th></th>\n",
       "      <th>Name</th>\n",
       "      <th>Year</th>\n",
       "      <th>Engine</th>\n",
       "      <th>Fuel</th>\n",
       "      <th>Transmission</th>\n",
       "      <th>Driven_KM</th>\n",
       "      <th>No_of_Owner</th>\n",
       "      <th>Location</th>\n",
       "      <th>Price</th>\n",
       "    </tr>\n",
       "  </thead>\n",
       "  <tbody>\n",
       "    <tr>\n",
       "      <th>count</th>\n",
       "      <td>5983.00000</td>\n",
       "      <td>5983.000000</td>\n",
       "      <td>5983.000000</td>\n",
       "      <td>5983.000000</td>\n",
       "      <td>5983.000000</td>\n",
       "      <td>5.983000e+03</td>\n",
       "      <td>5983.000000</td>\n",
       "      <td>5983.00000</td>\n",
       "      <td>5983.000000</td>\n",
       "    </tr>\n",
       "    <tr>\n",
       "      <th>mean</th>\n",
       "      <td>907.26241</td>\n",
       "      <td>2013.383085</td>\n",
       "      <td>52.041284</td>\n",
       "      <td>2.357179</td>\n",
       "      <td>0.713856</td>\n",
       "      <td>5.868418e+04</td>\n",
       "      <td>0.376901</td>\n",
       "      <td>5.61541</td>\n",
       "      <td>9.496263</td>\n",
       "    </tr>\n",
       "    <tr>\n",
       "      <th>std</th>\n",
       "      <td>525.03011</td>\n",
       "      <td>3.249102</td>\n",
       "      <td>42.420923</td>\n",
       "      <td>1.504463</td>\n",
       "      <td>0.451995</td>\n",
       "      <td>9.150334e+04</td>\n",
       "      <td>0.816198</td>\n",
       "      <td>2.95339</td>\n",
       "      <td>11.200462</td>\n",
       "    </tr>\n",
       "    <tr>\n",
       "      <th>min</th>\n",
       "      <td>0.00000</td>\n",
       "      <td>1998.000000</td>\n",
       "      <td>0.000000</td>\n",
       "      <td>0.000000</td>\n",
       "      <td>0.000000</td>\n",
       "      <td>1.710000e+02</td>\n",
       "      <td>0.000000</td>\n",
       "      <td>0.00000</td>\n",
       "      <td>0.440000</td>\n",
       "    </tr>\n",
       "    <tr>\n",
       "      <th>25%</th>\n",
       "      <td>466.50000</td>\n",
       "      <td>2011.000000</td>\n",
       "      <td>14.000000</td>\n",
       "      <td>1.000000</td>\n",
       "      <td>0.000000</td>\n",
       "      <td>3.396550e+04</td>\n",
       "      <td>0.000000</td>\n",
       "      <td>3.00000</td>\n",
       "      <td>3.500000</td>\n",
       "    </tr>\n",
       "    <tr>\n",
       "      <th>50%</th>\n",
       "      <td>913.00000</td>\n",
       "      <td>2014.000000</td>\n",
       "      <td>37.000000</td>\n",
       "      <td>1.000000</td>\n",
       "      <td>1.000000</td>\n",
       "      <td>5.300000e+04</td>\n",
       "      <td>0.000000</td>\n",
       "      <td>5.00000</td>\n",
       "      <td>5.650000</td>\n",
       "    </tr>\n",
       "    <tr>\n",
       "      <th>75%</th>\n",
       "      <td>1301.50000</td>\n",
       "      <td>2016.000000</td>\n",
       "      <td>74.000000</td>\n",
       "      <td>4.000000</td>\n",
       "      <td>1.000000</td>\n",
       "      <td>7.300000e+04</td>\n",
       "      <td>0.000000</td>\n",
       "      <td>8.00000</td>\n",
       "      <td>9.950000</td>\n",
       "    </tr>\n",
       "    <tr>\n",
       "      <th>max</th>\n",
       "      <td>1859.00000</td>\n",
       "      <td>2019.000000</td>\n",
       "      <td>145.000000</td>\n",
       "      <td>4.000000</td>\n",
       "      <td>1.000000</td>\n",
       "      <td>6.500000e+06</td>\n",
       "      <td>3.000000</td>\n",
       "      <td>10.00000</td>\n",
       "      <td>160.000000</td>\n",
       "    </tr>\n",
       "  </tbody>\n",
       "</table>\n",
       "</div>"
      ],
      "text/plain": [
       "             Name         Year       Engine         Fuel  Transmission  \\\n",
       "count  5983.00000  5983.000000  5983.000000  5983.000000   5983.000000   \n",
       "mean    907.26241  2013.383085    52.041284     2.357179      0.713856   \n",
       "std     525.03011     3.249102    42.420923     1.504463      0.451995   \n",
       "min       0.00000  1998.000000     0.000000     0.000000      0.000000   \n",
       "25%     466.50000  2011.000000    14.000000     1.000000      0.000000   \n",
       "50%     913.00000  2014.000000    37.000000     1.000000      1.000000   \n",
       "75%    1301.50000  2016.000000    74.000000     4.000000      1.000000   \n",
       "max    1859.00000  2019.000000   145.000000     4.000000      1.000000   \n",
       "\n",
       "          Driven_KM  No_of_Owner    Location       Price   \n",
       "count  5.983000e+03  5983.000000  5983.00000  5983.000000  \n",
       "mean   5.868418e+04     0.376901     5.61541     9.496263  \n",
       "std    9.150334e+04     0.816198     2.95339    11.200462  \n",
       "min    1.710000e+02     0.000000     0.00000     0.440000  \n",
       "25%    3.396550e+04     0.000000     3.00000     3.500000  \n",
       "50%    5.300000e+04     0.000000     5.00000     5.650000  \n",
       "75%    7.300000e+04     0.000000     8.00000     9.950000  \n",
       "max    6.500000e+06     3.000000    10.00000   160.000000  "
      ]
     },
     "execution_count": 18,
     "metadata": {},
     "output_type": "execute_result"
    }
   ],
   "source": [
    "#Statistical Summary\n",
    "df.describe()"
   ]
  },
  {
   "cell_type": "markdown",
   "metadata": {},
   "source": [
    "We have a outlier and skewness in the columns in the dataset. So we will check in further step"
   ]
  },
  {
   "cell_type": "markdown",
   "metadata": {},
   "source": [
    "# Correlation"
   ]
  },
  {
   "cell_type": "code",
   "execution_count": 19,
   "metadata": {},
   "outputs": [
    {
     "data": {
      "text/html": [
       "<div>\n",
       "<style scoped>\n",
       "    .dataframe tbody tr th:only-of-type {\n",
       "        vertical-align: middle;\n",
       "    }\n",
       "\n",
       "    .dataframe tbody tr th {\n",
       "        vertical-align: top;\n",
       "    }\n",
       "\n",
       "    .dataframe thead th {\n",
       "        text-align: right;\n",
       "    }\n",
       "</style>\n",
       "<table border=\"1\" class=\"dataframe\">\n",
       "  <thead>\n",
       "    <tr style=\"text-align: right;\">\n",
       "      <th></th>\n",
       "      <th>Name</th>\n",
       "      <th>Year</th>\n",
       "      <th>Engine</th>\n",
       "      <th>Fuel</th>\n",
       "      <th>Transmission</th>\n",
       "      <th>Driven_KM</th>\n",
       "      <th>No_of_Owner</th>\n",
       "      <th>Location</th>\n",
       "      <th>Price</th>\n",
       "    </tr>\n",
       "  </thead>\n",
       "  <tbody>\n",
       "    <tr>\n",
       "      <th>Name</th>\n",
       "      <td>1.000000</td>\n",
       "      <td>0.010425</td>\n",
       "      <td>0.059521</td>\n",
       "      <td>-0.069752</td>\n",
       "      <td>0.136886</td>\n",
       "      <td>0.027241</td>\n",
       "      <td>-0.026416</td>\n",
       "      <td>0.025713</td>\n",
       "      <td>-0.099839</td>\n",
       "    </tr>\n",
       "    <tr>\n",
       "      <th>Year</th>\n",
       "      <td>0.010425</td>\n",
       "      <td>1.000000</td>\n",
       "      <td>-0.061102</td>\n",
       "      <td>-0.125566</td>\n",
       "      <td>-0.096204</td>\n",
       "      <td>-0.172546</td>\n",
       "      <td>-0.384390</td>\n",
       "      <td>-0.020043</td>\n",
       "      <td>0.306137</td>\n",
       "    </tr>\n",
       "    <tr>\n",
       "      <th>Engine</th>\n",
       "      <td>0.059521</td>\n",
       "      <td>-0.061102</td>\n",
       "      <td>1.000000</td>\n",
       "      <td>-0.063242</td>\n",
       "      <td>-0.275436</td>\n",
       "      <td>0.028228</td>\n",
       "      <td>0.033371</td>\n",
       "      <td>-0.035636</td>\n",
       "      <td>0.303652</td>\n",
       "    </tr>\n",
       "    <tr>\n",
       "      <th>Fuel</th>\n",
       "      <td>-0.069752</td>\n",
       "      <td>-0.125566</td>\n",
       "      <td>-0.063242</td>\n",
       "      <td>1.000000</td>\n",
       "      <td>0.121561</td>\n",
       "      <td>-0.103594</td>\n",
       "      <td>0.043232</td>\n",
       "      <td>0.116212</td>\n",
       "      <td>-0.303846</td>\n",
       "    </tr>\n",
       "    <tr>\n",
       "      <th>Transmission</th>\n",
       "      <td>0.136886</td>\n",
       "      <td>-0.096204</td>\n",
       "      <td>-0.275436</td>\n",
       "      <td>0.121561</td>\n",
       "      <td>1.000000</td>\n",
       "      <td>0.025726</td>\n",
       "      <td>0.004647</td>\n",
       "      <td>0.041398</td>\n",
       "      <td>-0.585939</td>\n",
       "    </tr>\n",
       "    <tr>\n",
       "      <th>Driven_KM</th>\n",
       "      <td>0.027241</td>\n",
       "      <td>-0.172546</td>\n",
       "      <td>0.028228</td>\n",
       "      <td>-0.103594</td>\n",
       "      <td>0.025726</td>\n",
       "      <td>1.000000</td>\n",
       "      <td>0.079607</td>\n",
       "      <td>-0.043078</td>\n",
       "      <td>-0.011316</td>\n",
       "    </tr>\n",
       "    <tr>\n",
       "      <th>No_of_Owner</th>\n",
       "      <td>-0.026416</td>\n",
       "      <td>-0.384390</td>\n",
       "      <td>0.033371</td>\n",
       "      <td>0.043232</td>\n",
       "      <td>0.004647</td>\n",
       "      <td>0.079607</td>\n",
       "      <td>1.000000</td>\n",
       "      <td>-0.034865</td>\n",
       "      <td>-0.094952</td>\n",
       "    </tr>\n",
       "    <tr>\n",
       "      <th>Location</th>\n",
       "      <td>0.025713</td>\n",
       "      <td>-0.020043</td>\n",
       "      <td>-0.035636</td>\n",
       "      <td>0.116212</td>\n",
       "      <td>0.041398</td>\n",
       "      <td>-0.043078</td>\n",
       "      <td>-0.034865</td>\n",
       "      <td>1.000000</td>\n",
       "      <td>-0.117031</td>\n",
       "    </tr>\n",
       "    <tr>\n",
       "      <th>Price</th>\n",
       "      <td>-0.099839</td>\n",
       "      <td>0.306137</td>\n",
       "      <td>0.303652</td>\n",
       "      <td>-0.303846</td>\n",
       "      <td>-0.585939</td>\n",
       "      <td>-0.011316</td>\n",
       "      <td>-0.094952</td>\n",
       "      <td>-0.117031</td>\n",
       "      <td>1.000000</td>\n",
       "    </tr>\n",
       "  </tbody>\n",
       "</table>\n",
       "</div>"
      ],
      "text/plain": [
       "                  Name      Year    Engine      Fuel  Transmission  Driven_KM  \\\n",
       "Name          1.000000  0.010425  0.059521 -0.069752      0.136886   0.027241   \n",
       "Year          0.010425  1.000000 -0.061102 -0.125566     -0.096204  -0.172546   \n",
       "Engine        0.059521 -0.061102  1.000000 -0.063242     -0.275436   0.028228   \n",
       "Fuel         -0.069752 -0.125566 -0.063242  1.000000      0.121561  -0.103594   \n",
       "Transmission  0.136886 -0.096204 -0.275436  0.121561      1.000000   0.025726   \n",
       "Driven_KM     0.027241 -0.172546  0.028228 -0.103594      0.025726   1.000000   \n",
       "No_of_Owner  -0.026416 -0.384390  0.033371  0.043232      0.004647   0.079607   \n",
       "Location      0.025713 -0.020043 -0.035636  0.116212      0.041398  -0.043078   \n",
       " Price       -0.099839  0.306137  0.303652 -0.303846     -0.585939  -0.011316   \n",
       "\n",
       "              No_of_Owner  Location    Price   \n",
       "Name            -0.026416  0.025713 -0.099839  \n",
       "Year            -0.384390 -0.020043  0.306137  \n",
       "Engine           0.033371 -0.035636  0.303652  \n",
       "Fuel             0.043232  0.116212 -0.303846  \n",
       "Transmission     0.004647  0.041398 -0.585939  \n",
       "Driven_KM        0.079607 -0.043078 -0.011316  \n",
       "No_of_Owner      1.000000 -0.034865 -0.094952  \n",
       "Location        -0.034865  1.000000 -0.117031  \n",
       " Price          -0.094952 -0.117031  1.000000  "
      ]
     },
     "execution_count": 19,
     "metadata": {},
     "output_type": "execute_result"
    }
   ],
   "source": [
    "df.corr()"
   ]
  },
  {
   "cell_type": "markdown",
   "metadata": {},
   "source": [
    "We got the correlation result from the dataset. But It is difficult to understand the result Hence we are visualization this result through heatmap."
   ]
  },
  {
   "cell_type": "code",
   "execution_count": 20,
   "metadata": {},
   "outputs": [
    {
     "data": {
      "image/png": "[encoded data removed]",
      "text/plain": [
       "<Figure size 1080x360 with 2 Axes>"
      ]
     },
     "metadata": {
      "needs_background": "light"
     },
     "output_type": "display_data"
    }
   ],
   "source": [
    "corr_mat=df.corr()\n",
    "plt.figure(figsize=[15,5])\n",
    "sns.heatmap(corr_mat,annot=True)\n",
    "plt.title(\"Correlation Matrix\")\n",
    "plt.show()"
   ]
  },
  {
   "cell_type": "markdown",
   "metadata": {},
   "source": [
    "# Outcome of Correlation"
   ]
  },
  {
   "cell_type": "markdown",
   "metadata": {},
   "source": [
    "We can see the positive and negative correlation with the target column. Hence, I have listed below on ascending order\n",
    "\n",
    "Positive Sign:\n",
    "\n",
    "1)Only year & Engine columns have a positive(30%) with target column.\n",
    "\n",
    "Negative Sign:\n",
    "\n",
    "1)Transmission, Driven_KM, No_of_owner,Location."
   ]
  },
  {
   "cell_type": "markdown",
   "metadata": {},
   "source": [
    "# Outlier Checking "
   ]
  },
  {
   "cell_type": "code",
   "execution_count": 21,
   "metadata": {},
   "outputs": [
    {
     "data": {
      "image/png": "[encoded data removed]",
      "text/plain": [
       "<Figure size 864x1728 with 9 Axes>"
      ]
     },
     "metadata": {
      "needs_background": "light"
     },
     "output_type": "display_data"
    }
   ],
   "source": [
    "collist=df.columns.values\n",
    "ncol=12\n",
    "nrow=6\n",
    "plt.figure(figsize=(ncol,2*ncol))\n",
    "for i in range (0,len(collist)):\n",
    "    plt.subplot(nrow,ncol,i+1)\n",
    "    sns.boxplot(df[collist[i]],color='green',orient='v')\n",
    "    plt.tight_layout()"
   ]
  },
  {
   "cell_type": "markdown",
   "metadata": {},
   "source": [
    "# Checking Skewness"
   ]
  },
  {
   "cell_type": "code",
   "execution_count": 24,
   "metadata": {},
   "outputs": [
    {
     "data": {
      "text/plain": [
       "Name             0.116956\n",
       "Year            -0.840359\n",
       "Engine           0.855799\n",
       "Fuel             0.163436\n",
       "Transmission    -0.946591\n",
       "Driven_KM       58.626180\n",
       "No_of_Owner      1.794449\n",
       "Location        -0.131965\n",
       " Price           3.336198\n",
       "dtype: float64"
      ]
     },
     "execution_count": 24,
     "metadata": {},
     "output_type": "execute_result"
    }
   ],
   "source": [
    "df.skew()"
   ]
  },
  {
   "cell_type": "markdown",
   "metadata": {},
   "source": [
    "From the above info - we can see the skewness in the dataset. So, We will rectify this in upcoming step.\n",
    "\n",
    "Also, We can consider the -/+.5 is standard"
   ]
  },
  {
   "cell_type": "markdown",
   "metadata": {},
   "source": [
    "# Data Cleaning"
   ]
  },
  {
   "cell_type": "markdown",
   "metadata": {},
   "source": [
    "# Removing Outlier"
   ]
  },
  {
   "cell_type": "code",
   "execution_count": 25,
   "metadata": {},
   "outputs": [
    {
     "name": "stdout",
     "output_type": "stream",
     "text": [
      "(5983, 9)\n",
      "(array([  54,   77,  134,  143,  168,  191,  214,  243,  255,  262,  269,\n",
      "        272,  272,  280,  308,  309,  313,  324,  325,  328,  338,  353,\n",
      "        354,  356,  362,  366,  371,  373,  390,  402,  416,  457,  471,\n",
      "        487,  519,  575,  591,  595,  596,  601,  606,  611,  629,  629,\n",
      "        650,  653,  691,  696,  697,  710,  717,  749,  756,  794,  798,\n",
      "        826,  862,  907,  907,  909,  914,  937, 1034, 1056, 1074, 1089,\n",
      "       1109, 1134, 1154, 1190, 1217, 1217, 1220, 1224, 1242, 1278, 1313,\n",
      "       1330, 1346, 1379, 1390, 1417, 1442, 1488, 1497, 1506, 1529, 1533,\n",
      "       1552, 1554, 1575, 1621, 1682, 1719, 1733, 1822, 1829, 1835, 1837,\n",
      "       1838, 1852, 1874, 1877, 1895, 1899, 1899, 1916, 1922, 1966, 1976,\n",
      "       1991, 2048, 2080, 2086, 2092, 2101, 2152, 2158, 2176, 2199, 2213,\n",
      "       2239, 2261, 2277, 2280, 2296, 2300, 2308, 2316, 2316, 2369, 2380,\n",
      "       2403, 2409, 2433, 2474, 2496, 2502, 2511, 2511, 2514, 2523, 2527,\n",
      "       2532, 2539, 2578, 2606, 2618, 2640, 2640, 2643, 2687, 2689, 2749,\n",
      "       2776, 2789, 2795, 2804, 2834, 2876, 2887, 2904, 2958, 2994, 3010,\n",
      "       3023, 3031, 3048, 3050, 3072, 3118, 3118, 3153, 3169, 3169, 3190,\n",
      "       3201, 3201, 3208, 3222, 3246, 3248, 3254, 3272, 3374, 3386, 3409,\n",
      "       3431, 3440, 3447, 3457, 3467, 3499, 3516, 3569, 3570, 3618, 3681,\n",
      "       3697, 3725, 3728, 3782, 3829, 3851, 3895, 3917, 3930, 3938, 3938,\n",
      "       3969, 3978, 4053, 4075, 4117, 4139, 4158, 4317, 4323, 4323, 4332,\n",
      "       4349, 4359, 4360, 4384, 4413, 4423, 4463, 4474, 4499, 4584, 4599,\n",
      "       4599, 4620, 4627, 4628, 4661, 4673, 4677, 4678, 4697, 4698, 4727,\n",
      "       4759, 4759, 4774, 4783, 4789, 4790, 4831, 4831, 4837, 4838, 4839,\n",
      "       4857, 4861, 4882, 4906, 4929, 4955, 4976, 5004, 5006, 5033, 5054,\n",
      "       5057, 5073, 5084, 5103, 5113, 5266, 5305, 5312, 5315, 5350, 5368,\n",
      "       5380, 5390, 5396, 5402, 5417, 5441, 5476, 5480, 5485, 5499, 5509,\n",
      "       5533, 5567, 5572, 5588, 5606, 5607, 5611, 5621, 5666, 5680, 5680,\n",
      "       5704, 5739, 5745, 5745, 5827, 5864, 5878, 5883, 5890, 5891, 5906,\n",
      "       5907, 5910, 5954, 5958, 5972], dtype=int64), array([6, 6, 8, 6, 8, 8, 8, 6, 6, 8, 8, 1, 6, 8, 8, 8, 1, 8, 8, 6, 5, 8,\n",
      "       6, 5, 1, 6, 6, 6, 8, 8, 8, 8, 8, 8, 8, 6, 8, 6, 8, 8, 8, 1, 1, 6,\n",
      "       6, 8, 8, 6, 6, 8, 8, 6, 6, 8, 8, 6, 8, 1, 6, 8, 8, 8, 8, 6, 8, 8,\n",
      "       8, 8, 6, 8, 1, 6, 1, 6, 8, 6, 1, 8, 8, 8, 8, 6, 6, 8, 8, 6, 8, 8,\n",
      "       6, 8, 8, 6, 8, 6, 8, 8, 6, 6, 1, 6, 5, 6, 8, 1, 1, 6, 8, 6, 8, 8,\n",
      "       1, 8, 8, 8, 6, 8, 6, 6, 6, 8, 6, 6, 6, 6, 6, 6, 8, 8, 5, 8, 8, 6,\n",
      "       6, 8, 8, 1, 8, 8, 1, 6, 6, 8, 8, 8, 1, 8, 6, 6, 1, 6, 8, 6, 8, 8,\n",
      "       8, 8, 6, 5, 6, 8, 8, 8, 6, 8, 6, 8, 8, 6, 6, 5, 1, 6, 6, 1, 6, 8,\n",
      "       1, 6, 1, 8, 8, 8, 6, 6, 6, 6, 6, 8, 6, 6, 6, 8, 8, 8, 6, 6, 6, 8,\n",
      "       6, 1, 8, 1, 1, 6, 6, 1, 6, 1, 6, 8, 8, 8, 8, 1, 8, 8, 8, 1, 6, 8,\n",
      "       8, 8, 8, 8, 8, 8, 5, 8, 8, 8, 1, 6, 6, 8, 1, 8, 8, 8, 1, 6, 1, 6,\n",
      "       1, 6, 6, 6, 8, 1, 1, 6, 8, 6, 6, 8, 8, 8, 8, 6, 8, 8, 8, 1, 8, 8,\n",
      "       6, 8, 8, 1, 6, 8, 8, 6, 6, 6, 6, 8, 6, 1, 6, 1, 8, 8, 8, 8, 8, 8,\n",
      "       6, 8, 6, 6, 6, 1, 1, 1, 8, 1, 6, 8, 8, 6, 8, 8, 8, 1, 8, 1, 8, 6,\n",
      "       1, 8, 6, 6, 8], dtype=int64))\n"
     ]
    }
   ],
   "source": [
    "from scipy.stats import zscore\n",
    "z=np.abs(zscore(df))\n",
    "print(z.shape)\n",
    "threshold=3\n",
    "print(np.where(z>3))"
   ]
  },
  {
   "cell_type": "code",
   "execution_count": 26,
   "metadata": {},
   "outputs": [
    {
     "name": "stdout",
     "output_type": "stream",
     "text": [
      "(5983, 9)\n",
      "(5688, 9)\n"
     ]
    }
   ],
   "source": [
    "df_new=df[(z<3).all(axis=1)]\n",
    "print(df.shape)\n",
    "print(df_new.shape)"
   ]
  },
  {
   "cell_type": "markdown",
   "metadata": {},
   "source": [
    "We have applied ZSCORE technic for removing outlier in the dataset."
   ]
  },
  {
   "cell_type": "code",
   "execution_count": 28,
   "metadata": {},
   "outputs": [
    {
     "name": "stdout",
     "output_type": "stream",
     "text": [
      "4.93063680427879\n"
     ]
    }
   ],
   "source": [
    "Loss_percentage=(5983-5688)/5983*100\n",
    "print(Loss_percentage)"
   ]
  },
  {
   "cell_type": "markdown",
   "metadata": {},
   "source": [
    "After removing the outlier - we have only 5% dataloss. So it is good to go with this data."
   ]
  },
  {
   "cell_type": "code",
   "execution_count": 29,
   "metadata": {},
   "outputs": [],
   "source": [
    "X=df_new.iloc[:,:-1]\n",
    "Y=df_new.iloc[:,-1]"
   ]
  },
  {
   "cell_type": "markdown",
   "metadata": {},
   "source": [
    "I have created the feature and target columns. It will help me to do trian & test for preparing model"
   ]
  },
  {
   "cell_type": "markdown",
   "metadata": {},
   "source": [
    "# Data Transform for Remove Skewness"
   ]
  },
  {
   "cell_type": "code",
   "execution_count": 30,
   "metadata": {},
   "outputs": [],
   "source": [
    "from sklearn.preprocessing import power_transform\n",
    "DF=power_transform(X,method='yeo-johnson')\n",
    "DF=pd.DataFrame(DF,columns=X.columns)"
   ]
  },
  {
   "cell_type": "code",
   "execution_count": 31,
   "metadata": {},
   "outputs": [
    {
     "data": {
      "text/plain": [
       "Name           -0.235145\n",
       "Year           -0.442318\n",
       "Engine         -0.054892\n",
       "Fuel            0.039819\n",
       "Transmission   -1.036163\n",
       "Driven_KM       0.053833\n",
       "No_of_Owner     1.809882\n",
       "Location       -0.208697\n",
       "dtype: float64"
      ]
     },
     "execution_count": 31,
     "metadata": {},
     "output_type": "execute_result"
    }
   ],
   "source": [
    "DF.skew()"
   ]
  },
  {
   "cell_type": "code",
   "execution_count": 33,
   "metadata": {},
   "outputs": [
    {
     "data": {
      "image/png": "[encoded data removed]",
      "text/plain": [
       "<Figure size 1800x3600 with 8 Axes>"
      ]
     },
     "metadata": {
      "needs_background": "light"
     },
     "output_type": "display_data"
    }
   ],
   "source": [
    "collist=DF.columns.values\n",
    "ncol=25\n",
    "nrow=15\n",
    "plt.figure(figsize=(ncol,2*ncol))\n",
    "for i in range (0,len(collist)):\n",
    "    plt.subplot(nrow,ncol,i+1)\n",
    "    sns.boxplot(DF[collist[i]],color='green',orient='v')\n",
    "    plt.tight_layout()"
   ]
  },
  {
   "cell_type": "markdown",
   "metadata": {},
   "source": [
    "# Finding the best model and Random State"
   ]
  },
  {
   "cell_type": "code",
   "execution_count": 34,
   "metadata": {},
   "outputs": [],
   "source": [
    "from sklearn.preprocessing import StandardScaler\n",
    "SC=StandardScaler()\n",
    "x=SC.fit_transform(DF)"
   ]
  },
  {
   "cell_type": "code",
   "execution_count": 35,
   "metadata": {},
   "outputs": [
    {
     "name": "stdout",
     "output_type": "stream",
     "text": [
      "Best Accuracy is 59.622245713483935 on Random state 330\n"
     ]
    }
   ],
   "source": [
    "from sklearn.linear_model import LinearRegression\n",
    "from sklearn.metrics import r2_score\n",
    "maxAccu=0\n",
    "maxRS=0\n",
    "for i in range (0,500):\n",
    "    x_train,x_test,Y_train,Y_test = train_test_split(x,Y,test_size=.25,random_state=i)\n",
    "    LR =LinearRegression()\n",
    "    LR.fit(x_train,Y_train)\n",
    "    PX1=LR.predict(x_train)\n",
    "    PY1=LR.predict(x_test)\n",
    "    R2 = r2_score(Y_test, PY1)\n",
    "    if R2>maxAccu:\n",
    "        maxAccu=R2\n",
    "        maxRS=i\n",
    "print(\"Best Accuracy is\",maxAccu*100,\"on Random state\",maxRS)"
   ]
  },
  {
   "cell_type": "code",
   "execution_count": 36,
   "metadata": {},
   "outputs": [
    {
     "name": "stdout",
     "output_type": "stream",
     "text": [
      "Best Accuracy is 59.61988994946788 on Random state 330\n"
     ]
    }
   ],
   "source": [
    "from sklearn.linear_model import Ridge\n",
    "from sklearn.metrics import r2_score\n",
    "maxAccu=0\n",
    "maxRS=0\n",
    "for i in range (0,500):\n",
    "    x_train,x_test,Y_train,Y_test = train_test_split(x,Y,test_size=.25,random_state=i)\n",
    "    RR =Ridge()\n",
    "    RR.fit(x_train,Y_train)\n",
    "    PX2=RR.predict(x_train)\n",
    "    PY2=RR.predict(x_test)\n",
    "    R2 = r2_score(Y_test,PY2)\n",
    "    if R2>maxAccu:\n",
    "        maxAccu=R2\n",
    "        maxRS=i\n",
    "print(\"Best Accuracy is\",maxAccu*100,\"on Random state\",maxRS)"
   ]
  },
  {
   "cell_type": "markdown",
   "metadata": {},
   "source": [
    "Best Accuracy score got from the model which are below i have listed:\n",
    "\n",
    "1) LinearRegression score is - 60%  \n",
    "3) Ridge score is - 60%  \n",
    "\n",
    "Based on the above score - Linear have the high score which is 60%. However, we will check with cross validation score then finalize the model."
   ]
  },
  {
   "cell_type": "markdown",
   "metadata": {},
   "source": [
    "# Creating the Train_Test_Split"
   ]
  },
  {
   "cell_type": "code",
   "execution_count": 38,
   "metadata": {},
   "outputs": [],
   "source": [
    "x_train,x_test,Y_train,Y_test = train_test_split(x,Y,test_size=.25,random_state=330)"
   ]
  },
  {
   "cell_type": "markdown",
   "metadata": {},
   "source": [
    "# Cross-Validation of the Model"
   ]
  },
  {
   "cell_type": "code",
   "execution_count": 44,
   "metadata": {},
   "outputs": [
    {
     "name": "stdout",
     "output_type": "stream",
     "text": [
      "Cross Validation Score of is : 55.34746877516159\n",
      "Cross Validation Score of is : 55.347600079960856\n"
     ]
    }
   ],
   "source": [
    "from sklearn.model_selection import cross_val_score\n",
    "cv1_score=cross_val_score(LR,x,Y,cv=3)\n",
    "cv2_score=cross_val_score(RR,x,Y,cv=3)\n",
    "cv1_mean=cv1_score.mean()\n",
    "cv2_mean=cv2_score.mean()\n",
    "print(f\"Cross Validation Score of is :\",cv1_mean*100)\n",
    "print(f\"Cross Validation Score of is :\",cv2_mean*100)"
   ]
  },
  {
   "cell_type": "markdown",
   "metadata": {},
   "source": [
    "We have a cross validation score which will help us to choose the model."
   ]
  },
  {
   "cell_type": "code",
   "execution_count": 45,
   "metadata": {},
   "outputs": [
    {
     "data": {
      "image/png": "[encoded data removed]",
      "text/plain": [
       "<Figure size 360x216 with 1 Axes>"
      ]
     },
     "metadata": {
      "needs_background": "light"
     },
     "output_type": "display_data"
    }
   ],
   "source": [
    "plt.figure(figsize=(5,3))\n",
    "plt.scatter(x=Y_test,y=PY1,color='b')\n",
    "plt.plot(Y_test,Y_test,color='g')\n",
    "plt.show()"
   ]
  },
  {
   "cell_type": "markdown",
   "metadata": {},
   "source": [
    "# Regularization"
   ]
  },
  {
   "cell_type": "code",
   "execution_count": 46,
   "metadata": {},
   "outputs": [
    {
     "name": "stdout",
     "output_type": "stream",
     "text": [
      "{'alpha': 10, 'random_state': 0}\n"
     ]
    }
   ],
   "source": [
    "from sklearn.model_selection import GridSearchCV\n",
    "from sklearn.model_selection import cross_val_score\n",
    "parameters = {'alpha':[.0001, .001, .01, .1, 1, 10, 100],'random_state':list(range(0,100))}\n",
    "clf=GridSearchCV(RR,parameters)\n",
    "clf.fit(x_train,Y_train)\n",
    "print(clf.best_params_)"
   ]
  },
  {
   "cell_type": "code",
   "execution_count": 47,
   "metadata": {},
   "outputs": [
    {
     "name": "stdout",
     "output_type": "stream",
     "text": [
      "Lasso Score : 59.59858122982744\n",
      "CV Score : 55.348561514400515\n"
     ]
    }
   ],
   "source": [
    "RR=Ridge(alpha=10,random_state=0)\n",
    "RR.fit(x_train,Y_train)\n",
    "RR.score(x_train,Y_train)\n",
    "predict=RR.predict(x_test)\n",
    "ls=r2_score(Y_test,predict)\n",
    "print(\"Lasso Score :\",ls*100)\n",
    "\n",
    "cv_score=cross_val_score(RR,x,Y,cv=3)\n",
    "cv_mean=cv_score.mean()\n",
    "print(\"CV Score :\",cv_mean*100)"
   ]
  },
  {
   "cell_type": "markdown",
   "metadata": {},
   "source": [
    "# Ensemblie Technique"
   ]
  },
  {
   "cell_type": "code",
   "execution_count": 48,
   "metadata": {},
   "outputs": [
    {
     "name": "stdout",
     "output_type": "stream",
     "text": [
      "{'criterion': 'mse', 'max_features': 'log2'}\n"
     ]
    }
   ],
   "source": [
    "from sklearn.ensemble import RandomForestRegressor\n",
    "parameters={'criterion':['mse','mae'],'max_features':[\"auto\",\"sqrt\",\"log2\"]}\n",
    "RF=RandomForestRegressor()\n",
    "clf=GridSearchCV(RF,parameters)\n",
    "clf.fit(x_train,Y_train)\n",
    "print(clf.best_params_)"
   ]
  },
  {
   "cell_type": "code",
   "execution_count": 49,
   "metadata": {},
   "outputs": [
    {
     "name": "stdout",
     "output_type": "stream",
     "text": [
      "R2 Score : 89.7978283549761\n",
      "CV Score : 88.11402708240314\n"
     ]
    }
   ],
   "source": [
    "RF=RandomForestRegressor(criterion=\"mse\",max_features=\"log2\")\n",
    "RF.fit(x_train,Y_train)\n",
    "RF.score(x_train,Y_train)\n",
    "pred=RF.predict(x_test)\n",
    "RFS=r2_score(Y_test,pred)\n",
    "print(\"R2 Score :\",RFS*100)\n",
    "\n",
    "rfs=cross_val_score(RF,x,Y,cv=3)\n",
    "rfc=rfs.mean()\n",
    "print(\"CV Score :\",rfc*100)"
   ]
  },
  {
   "cell_type": "markdown",
   "metadata": {},
   "source": [
    "# Model Saving"
   ]
  },
  {
   "cell_type": "code",
   "execution_count": 50,
   "metadata": {},
   "outputs": [],
   "source": [
    "import pickle\n",
    "filename='Car_Prediction.pkl'\n",
    "pickle.dump(RF,open(filename,'wb'))"
   ]
  },
  {
   "cell_type": "markdown",
   "metadata": {},
   "source": [
    "# Conclusion"
   ]
  },
  {
   "cell_type": "code",
   "execution_count": 51,
   "metadata": {},
   "outputs": [
    {
     "name": "stdout",
     "output_type": "stream",
     "text": [
      "0.8979782835497611\n"
     ]
    }
   ],
   "source": [
    "Loaded_load = pickle.load(open('Car_Prediction.pkl','rb'))\n",
    "Result=Loaded_load.score(x_test,Y_test)\n",
    "print(Result)"
   ]
  },
  {
   "cell_type": "code",
   "execution_count": 52,
   "metadata": {},
   "outputs": [
    {
     "data": {
      "text/html": [
       "<div>\n",
       "<style scoped>\n",
       "    .dataframe tbody tr th:only-of-type {\n",
       "        vertical-align: middle;\n",
       "    }\n",
       "\n",
       "    .dataframe tbody tr th {\n",
       "        vertical-align: top;\n",
       "    }\n",
       "\n",
       "    .dataframe thead th {\n",
       "        text-align: right;\n",
       "    }\n",
       "</style>\n",
       "<table border=\"1\" class=\"dataframe\">\n",
       "  <thead>\n",
       "    <tr style=\"text-align: right;\">\n",
       "      <th></th>\n",
       "      <th>0</th>\n",
       "      <th>1</th>\n",
       "      <th>2</th>\n",
       "      <th>3</th>\n",
       "      <th>4</th>\n",
       "      <th>5</th>\n",
       "      <th>6</th>\n",
       "      <th>7</th>\n",
       "      <th>8</th>\n",
       "      <th>9</th>\n",
       "      <th>...</th>\n",
       "      <th>1412</th>\n",
       "      <th>1413</th>\n",
       "      <th>1414</th>\n",
       "      <th>1415</th>\n",
       "      <th>1416</th>\n",
       "      <th>1417</th>\n",
       "      <th>1418</th>\n",
       "      <th>1419</th>\n",
       "      <th>1420</th>\n",
       "      <th>1421</th>\n",
       "    </tr>\n",
       "  </thead>\n",
       "  <tbody>\n",
       "    <tr>\n",
       "      <th>Predicted</th>\n",
       "      <td>3.5682</td>\n",
       "      <td>2.6033</td>\n",
       "      <td>25.4678</td>\n",
       "      <td>5.29</td>\n",
       "      <td>5.2183</td>\n",
       "      <td>3.217267</td>\n",
       "      <td>8.7822</td>\n",
       "      <td>20.9445</td>\n",
       "      <td>12.911633</td>\n",
       "      <td>5.4431</td>\n",
       "      <td>...</td>\n",
       "      <td>3.2402</td>\n",
       "      <td>6.6691</td>\n",
       "      <td>3.1837</td>\n",
       "      <td>2.2436</td>\n",
       "      <td>3.657</td>\n",
       "      <td>4.6451</td>\n",
       "      <td>19.6943</td>\n",
       "      <td>3.9028</td>\n",
       "      <td>6.8536</td>\n",
       "      <td>5.3468</td>\n",
       "    </tr>\n",
       "    <tr>\n",
       "      <th>Original</th>\n",
       "      <td>3.5682</td>\n",
       "      <td>2.6033</td>\n",
       "      <td>25.4678</td>\n",
       "      <td>5.29</td>\n",
       "      <td>5.2183</td>\n",
       "      <td>3.217267</td>\n",
       "      <td>8.7822</td>\n",
       "      <td>20.9445</td>\n",
       "      <td>12.911633</td>\n",
       "      <td>5.4431</td>\n",
       "      <td>...</td>\n",
       "      <td>3.2402</td>\n",
       "      <td>6.6691</td>\n",
       "      <td>3.1837</td>\n",
       "      <td>2.2436</td>\n",
       "      <td>3.657</td>\n",
       "      <td>4.6451</td>\n",
       "      <td>19.6943</td>\n",
       "      <td>3.9028</td>\n",
       "      <td>6.8536</td>\n",
       "      <td>5.3468</td>\n",
       "    </tr>\n",
       "  </tbody>\n",
       "</table>\n",
       "<p>2 rows × 1422 columns</p>\n",
       "</div>"
      ],
      "text/plain": [
       "             0       1        2     3       4         5       6        7     \\\n",
       "Predicted  3.5682  2.6033  25.4678  5.29  5.2183  3.217267  8.7822  20.9445   \n",
       "Original   3.5682  2.6033  25.4678  5.29  5.2183  3.217267  8.7822  20.9445   \n",
       "\n",
       "                8       9     ...    1412    1413    1414    1415   1416  \\\n",
       "Predicted  12.911633  5.4431  ...  3.2402  6.6691  3.1837  2.2436  3.657   \n",
       "Original   12.911633  5.4431  ...  3.2402  6.6691  3.1837  2.2436  3.657   \n",
       "\n",
       "             1417     1418    1419    1420    1421  \n",
       "Predicted  4.6451  19.6943  3.9028  6.8536  5.3468  \n",
       "Original   4.6451  19.6943  3.9028  6.8536  5.3468  \n",
       "\n",
       "[2 rows x 1422 columns]"
      ]
     },
     "execution_count": 52,
     "metadata": {},
     "output_type": "execute_result"
    }
   ],
   "source": [
    "Conclusion=pd.DataFrame([Loaded_load.predict(x_test)[:],pred[:]],index=[\"Predicted\",\"Original\"])\n",
    "Conclusion"
   ]
  },
  {
   "cell_type": "markdown",
   "metadata": {},
   "source": [
    "Output from the model - The Prediction is seems like very accurate. So the model is performing very well"
   ]
  }
 ],
 "metadata": {
  "kernelspec": {
   "display_name": "Python 3",
   "language": "python",
   "name": "python3"
  },
  "language_info": {
   "codemirror_mode": {
    "name": "ipython",
    "version": 3
   },
   "file_extension": ".py",
   "mimetype": "text/x-python",
   "name": "python",
   "nbconvert_exporter": "python",
   "pygments_lexer": "ipython3",
   "version": "3.8.3"
  }
 },
 "nbformat": 4,
 "nbformat_minor": 4
}
